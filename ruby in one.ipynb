{
 "cells": [
  {
   "cell_type": "markdown",
   "id": "f7c7a4fc-3c2c-425d-b918-67be696fd6ba",
   "metadata": {},
   "source": [
    "# 变量"
   ]
  },
  {
   "cell_type": "code",
   "execution_count": 2,
   "id": "26985020-d445-4582-b126-f279d21d44aa",
   "metadata": {},
   "outputs": [
    {
     "data": {
      "text/plain": [
       "[2, \"hello\"]"
      ]
     },
     "execution_count": 2,
     "metadata": {},
     "output_type": "execute_result"
    }
   ],
   "source": [
    "a = 1\n",
    "c, d = 2, \"hello\""
   ]
  },
  {
   "cell_type": "markdown",
   "id": "5e241d2b-9f2f-4ae7-9ae8-ab18a2336a00",
   "metadata": {},
   "source": [
    "# 常量\n",
    "\n",
    "> 首字母大写\n",
    "\n",
    "动脑想想： 类名是不是首字母大写？ 那它是常量吗？"
   ]
  },
  {
   "cell_type": "code",
   "execution_count": 1,
   "id": "02bf74b1-83ca-4354-97a5-a24a03eb1c56",
   "metadata": {},
   "outputs": [
    {
     "data": {
      "text/plain": [
       "\"强生学堂\""
      ]
     },
     "execution_count": 1,
     "metadata": {},
     "output_type": "execute_result"
    }
   ],
   "source": [
    "HOST = \"强生学堂\""
   ]
  },
  {
   "cell_type": "markdown",
   "id": "95f53c36-4c92-4156-9427-a5bd92043013",
   "metadata": {},
   "source": [
    "# 数据类型（都是对象）\n",
    "\n",
    "* Number\n",
    "\n",
    "* String\n",
    "\n",
    "* Ranges\n",
    "\n",
    "* Symbols\n",
    "\n",
    "* Boolean\n",
    "\n",
    "* nil\n",
    "\n",
    "* Array\n",
    "\n",
    "* Hash"
   ]
  },
  {
   "cell_type": "code",
   "execution_count": 6,
   "id": "c01a96de-9f97-4a30-9d84-c70efffbb67a",
   "metadata": {},
   "outputs": [
    {
     "data": {
      "text/plain": [
       "[Integer, JSON::Ext::Generator::GeneratorMethods::Integer, Numeric, Comparable, Object, JSON::Ext::Generator::GeneratorMethods::Object, Kernel, BasicObject]"
      ]
     },
     "execution_count": 6,
     "metadata": {},
     "output_type": "execute_result"
    }
   ],
   "source": [
    "9.class.ancestors"
   ]
  },
  {
   "cell_type": "code",
   "execution_count": 8,
   "id": "34d2c5dc-1e74-470c-80e5-ceb0e8d5114b",
   "metadata": {},
   "outputs": [
    {
     "data": {
      "text/plain": [
       "[Float, JSON::Ext::Generator::GeneratorMethods::Float, Numeric, Comparable, Object, JSON::Ext::Generator::GeneratorMethods::Object, Kernel, BasicObject]"
      ]
     },
     "execution_count": 8,
     "metadata": {},
     "output_type": "execute_result"
    }
   ],
   "source": [
    "1.5.class.ancestors"
   ]
  },
  {
   "cell_type": "code",
   "execution_count": 3,
   "id": "940993f7-788c-45f0-9db1-ef9978aa9b1e",
   "metadata": {},
   "outputs": [
    {
     "name": "stdout",
     "output_type": "stream",
     "text": [
      "[1, \"a\", true, nil]\n"
     ]
    },
    {
     "data": {
      "text/plain": [
       "[1, \"a\", true, nil]"
      ]
     },
     "execution_count": 3,
     "metadata": {},
     "output_type": "execute_result"
    }
   ],
   "source": [
    "## Array\n",
    "\n",
    "payments = ['alipay', 'wepay']\n",
    "payments_url = ['alipay_url', 'wepay_url']\n",
    "misc_type = [1, \"a\", true, nil]\n",
    "multi_array = [payments, payments_url]\n",
    "\n",
    "p misc_type"
   ]
  },
  {
   "cell_type": "code",
   "execution_count": 4,
   "id": "b71c5c9d-6c5e-468f-aa6a-0f2c237159a5",
   "metadata": {},
   "outputs": [
    {
     "data": {
      "text/plain": [
       "{:wepay=>\"wepay_url\", :alipay=>\"alipay_url\"}"
      ]
     },
     "execution_count": 4,
     "metadata": {},
     "output_type": "execute_result"
    }
   ],
   "source": [
    "## Hash\n",
    "payments = {wepay: 'wepay_url', alipay: 'alipay_url'}"
   ]
  },
  {
   "cell_type": "markdown",
   "id": "06e30274-a810-415d-b4a4-32e7188bb1ff",
   "metadata": {},
   "source": [
    "# 顺序、选择、循环三种结构"
   ]
  },
  {
   "cell_type": "code",
   "execution_count": 33,
   "id": "c8674a2c-ad8d-4cdc-a1af-6da4f9fa7268",
   "metadata": {},
   "outputs": [
    {
     "name": "stdout",
     "output_type": "stream",
     "text": [
      "x 是 1\n",
      "x 小于 2\n",
      "1 -- 这一行输出\n",
      "小孩\n",
      "bar is true\n",
      "在循环语句中 i = 0\n",
      "在循环语句中 i = 1\n",
      "在循环语句中 i = 2\n",
      "在循环语句中 i = 3\n",
      "在循环语句中 i = 4\n",
      "在循环语句中 i = 0\n",
      "在循环语句中 i = 1\n",
      "在循环语句中 i = 2\n",
      "在循环语句中 i = 3\n",
      "在循环语句中 i = 4\n",
      "在循环语句中 i = 0\n",
      "在循环语句中 i = 1\n",
      "在循环语句中 i = 2\n",
      "在循环语句中 i = 3\n",
      "在循环语句中 i = 4\n",
      "在循环语句中 i = 5\n",
      "在循环语句中 i = 0\n",
      "在循环语句中 i = 1\n",
      "在循环语句中 i = 2\n",
      "在循环语句中 i = 3\n",
      "在循环语句中 i = 4\n",
      "在循环语句中 i = 5\n",
      "局部变量的值为 0\n",
      "局部变量的值为 1\n",
      "局部变量的值为 2\n",
      "局部变量的值为 3\n",
      "局部变量的值为 4\n",
      "局部变量的值为 5\n",
      "局部变量的值为 0\n",
      "局部变量的值为 1\n",
      "局部变量的值为 2\n",
      "局部变量的值为 3\n",
      "局部变量的值为 4\n",
      "局部变量的值为 5\n",
      "局部变量的值为 0\n",
      "局部变量的值为 1\n",
      "局部变量的值为 2\n",
      "局部变量的值为 2\n",
      "局部变量的值为 3\n",
      "局部变量的值为 4\n",
      "局部变量的值为 5\n",
      "\"do_something\"\n"
     ]
    },
    {
     "data": {
      "text/plain": [
       "\"do_something\""
      ]
     },
     "execution_count": 33,
     "metadata": {},
     "output_type": "execute_result"
    }
   ],
   "source": [
    "x=1\n",
    "if x > 2\n",
    "   puts \"x 大于 2\"\n",
    "elsif x <= 2 && x!=0\n",
    "   puts \"x 是 1\"\n",
    "else\n",
    "   puts \"无法得知 x 的值\"\n",
    "end\n",
    "\n",
    "x=1\n",
    "unless x>2\n",
    "   puts \"x 小于 2\"\n",
    " else\n",
    "  puts \"x 大于 2\"\n",
    "end\n",
    "\n",
    "var =  1\n",
    "print \"1 -- 这一行输出\\n\" if var\n",
    "print \"2 -- 这一行不输出\\n\" unless var\n",
    "    \n",
    "age =  5\n",
    "case age\n",
    "when 0 .. 2\n",
    "    puts \"婴儿\"\n",
    "when 3 .. 6\n",
    "    puts \"小孩\"\n",
    "when 7 .. 12\n",
    "    puts \"child\"\n",
    "when 13 .. 18\n",
    "    puts \"少年\"\n",
    "else\n",
    "    puts \"其他年龄段的\"\n",
    "end\n",
    "\n",
    "foo = false\n",
    "bar = true\n",
    "quu = false\n",
    " \n",
    "# 当case的\"表达式\"部分被省略时，将计算第一个when条件部分为真的表达式。\n",
    "case\n",
    "when foo then puts 'foo is true'\n",
    "when bar then puts 'bar is true'\n",
    "when quu then puts 'quu is true'\n",
    "end\n",
    "    \n",
    "    \n",
    "i = 0\n",
    "num = 5\n",
    " \n",
    "while i < num  do\n",
    "   puts(\"在循环语句中 i = #$i\" )\n",
    "   i +=1\n",
    "end\n",
    "    \n",
    "$i = 0\n",
    "$num = 5\n",
    "begin\n",
    "   puts(\"在循环语句中 i = #$i\" )\n",
    "   $i +=1\n",
    "end while $i < $num\n",
    "    \n",
    "$i = 0\n",
    "$num = 5\n",
    " \n",
    "until $i > $num  do\n",
    "   puts(\"在循环语句中 i = #$i\" )\n",
    "   $i +=1;\n",
    "end\n",
    "    \n",
    "$i = 0\n",
    "$num = 5\n",
    "begin\n",
    "   puts(\"在循环语句中 i = #$i\" )\n",
    "   $i +=1;\n",
    "end until $i > $num\n",
    "\n",
    "for i in 0..5\n",
    "   puts \"局部变量的值为 #{i}\"\n",
    "end\n",
    "    \n",
    "(0..5).each do |i|\n",
    "   puts \"局部变量的值为 #{i}\"\n",
    "end\n",
    "    \n",
    "  \n",
    "# break 终止最内部的循环。如果在块内调用，则终止相关块的方法（方法返回 nil）。\n",
    "    \n",
    "for i in 0..5\n",
    "   if i > 2 then\n",
    "      break\n",
    "   end\n",
    "   puts \"局部变量的值为 #{i}\"\n",
    "end\n",
    "    \n",
    "# next 跳到循环的下一个迭代。如果在块内调用，则终止块的执行（yield 表达式返回 nil）。\n",
    "for i in 0..5\n",
    "   if i < 2 then\n",
    "      next\n",
    "   end\n",
    "   puts \"局部变量的值为 #{i}\"\n",
    "end\n",
    "    \n",
    "# Redo 重新开始最内部循环的该次迭代，不检查循环条件。如果在块内调用，则重新开始 yield 或 call。\n",
    "# Ruby retry 语句,注意：1.9以及之后的版本不支持在循环中使用retry。\n",
    "\n",
    "for i in 1..5\n",
    "   # retry if some_condition # 重新从 i == 1 开始, 1.9以及之后的版本不支持在循环中使用retry。\n",
    "end\n",
    "    \n",
    "\n",
    "begin\n",
    "  p \"do_something\"   # 抛出的异常\n",
    "rescue\n",
    "   # 处理错误\n",
    "   retry          # 重新从 begin 开始\n",
    "end"
   ]
  },
  {
   "cell_type": "markdown",
   "id": "c4987e93-bff6-4e9e-9071-ba12a1729fcc",
   "metadata": {},
   "source": [
    "# 函数/方法声明\n",
    "\n",
    "```ruby\n",
    "def method_name [( [arg [= default]]...[, * arg [, &expr ]])]\n",
    "   expr..\n",
    "end\n",
    "```\n",
    "\n",
    "#### Ruby 中的 return 语句用于从 Ruby 方法中返回一个或多个值。"
   ]
  },
  {
   "cell_type": "code",
   "execution_count": 5,
   "id": "fdc4813e-3cad-4f6f-8ab9-e3136e915618",
   "metadata": {},
   "outputs": [
    {
     "name": "stdout",
     "output_type": "stream",
     "text": [
      "100\n",
      "200\n",
      "300\n"
     ]
    }
   ],
   "source": [
    "def test\n",
    "  i = 100\n",
    "  j = 200\n",
    "  k = 300\n",
    "  return i, j, k\n",
    "end\n",
    "\n",
    "var = test\n",
    "puts var"
   ]
  },
  {
   "cell_type": "markdown",
   "id": "9a4bf7a2-96a3-4c6f-b5b2-39951a325400",
   "metadata": {
    "tags": []
   },
   "source": [
    "# 异常\n"
   ]
  },
  {
   "cell_type": "code",
   "execution_count": 7,
   "id": "0a672c3a-f8f5-4a65-adb6-0ede3d07d7bb",
   "metadata": {},
   "outputs": [
    {
     "name": "stdout",
     "output_type": "stream",
     "text": [
      "I am before the raise.\n",
      "I am rescued.\n",
      "I am after the begin block.\n"
     ]
    }
   ],
   "source": [
    "begin  \n",
    "    puts 'I am before the raise.'  \n",
    "    raise 'An error has occurred.'  \n",
    "    puts 'I am after the raise.'  \n",
    "rescue  \n",
    "    puts 'I am rescued.'  \n",
    "end  \n",
    "puts 'I am after the begin block.'\n",
    "\n"
   ]
  },
  {
   "cell_type": "markdown",
   "id": "ea21c3ca-bb0b-4b77-a42c-622a95352288",
   "metadata": {},
   "source": [
    "# std IO、File IO\n"
   ]
  },
  {
   "cell_type": "code",
   "execution_count": 4,
   "id": "291e4c0a-1890-4f1b-a384-5d6c1624ba6d",
   "metadata": {},
   "outputs": [
    {
     "ename": "Errno::ENOENT",
     "evalue": "No such file or directory @ rb_sysopen - test.txt",
     "output_type": "error",
     "traceback": [
      "\u001b[31mErrno::ENOENT\u001b[0m: No such file or directory @ rb_sysopen - test.txt",
      "(irb):in `initialize'",
      "(irb):in `open'",
      "(irb):in `irb_binding'"
     ]
    }
   ],
   "source": [
    "fp = open 'test.txt', 'rb'"
   ]
  },
  {
   "cell_type": "markdown",
   "id": "b96a8665-84de-41ee-9d5a-0f3723de7adc",
   "metadata": {},
   "source": [
    "# 类\n",
    "\n",
    "Ruby 提供了四种类型的变量：\n",
    "\n",
    "* 局部变量：局部变量是在方法中定义的变量。局部变量在方法外是不可用的。在后续的章节中，您将看到有关方法的更多细节。局部变量以小写字母或 _ 开始。\n",
    "* 实例变量：实例变量可以跨任何特定的实例或对象中的方法使用。这意味着，实例变量可以从对象到对象的改变。实例变量在变量名之前放置符号（@）。\n",
    "* 类变量：类变量可以跨不同的对象使用。类变量属于类，且是类的一个属性。类变量在变量名之前放置符号（@@）。\n",
    "* 全局变量：类变量不能跨类使用。如果您想要有一个可以跨类使用的变量，您需要定义全局变量。全局变量总是以美元符号（$）开始。"
   ]
  },
  {
   "cell_type": "code",
   "execution_count": 9,
   "id": "f1730c4c-3d08-4097-a99f-ef92eccb383e",
   "metadata": {},
   "outputs": [
    {
     "name": "stdout",
     "output_type": "stream",
     "text": [
      "\"wood\"\n",
      "5\n",
      "6\n",
      "4\n"
     ]
    },
    {
     "ename": "NoMethodError",
     "evalue": "undefined method `height=' for #<#<Class:0x00007f9a5da7d240>::Box:0x00007f9a61879fa8>\nDid you mean?  height",
     "output_type": "error",
     "traceback": [
      "\u001b[31mNoMethodError\u001b[0m: undefined method `height=' for #<#<Class:0x00007f9a5da7d240>::Box:0x00007f9a61879fa8>\nDid you mean?  height",
      "(irb):25:in `irb_binding'"
     ]
    }
   ],
   "source": [
    "class Box\n",
    "   @@material = \"wood\"\n",
    "   attr_accessor :length\n",
    "   attr_writer :width\n",
    "   attr_reader  :height\n",
    "    \n",
    "   # 构造函数\n",
    "   def initialize(w,h,l)\n",
    "      @width, @height, @length = w, h,l\n",
    "   end\n",
    "    \n",
    "   def Box.get_material\n",
    "     p @@material\n",
    "   end\n",
    "    \n",
    "end\n",
    "\n",
    "\n",
    "Box.get_material\n",
    "box = Box.new(3, 4, 5)\n",
    "p box.length\n",
    "box.length = 6\n",
    "p box.length\n",
    "# p box.width\n",
    "p box.height\n",
    "box.height = 5"
   ]
  },
  {
   "cell_type": "markdown",
   "id": "d23daf27-27ce-4bb7-b738-2e7421b2e135",
   "metadata": {},
   "source": [
    "# 继承\n"
   ]
  },
  {
   "cell_type": "code",
   "execution_count": 19,
   "id": "cf7f60bc-1b4b-437f-84e5-970f7579ca85",
   "metadata": {},
   "outputs": [
    {
     "name": "stdout",
     "output_type": "stream",
     "text": [
      "Big box area is : 200\n"
     ]
    },
    {
     "data": {
      "text/plain": [
       ":*"
      ]
     },
     "execution_count": 19,
     "metadata": {},
     "output_type": "execute_result"
    }
   ],
   "source": [
    "class Car\n",
    "  def move\n",
    "    p \"moving...\"\n",
    "  end\n",
    "end\n",
    "\n",
    "class Truck < Car\n",
    "end\n",
    "\n",
    "\n",
    "# 定义类\n",
    "class Box\n",
    "   # 构造器方法\n",
    "   def initialize(w,h)\n",
    "      @width, @height = w, h\n",
    "   end\n",
    "   # 实例方法\n",
    "   def getArea\n",
    "      @width * @height\n",
    "   end\n",
    "end\n",
    " \n",
    "\n",
    "\n"
   ]
  },
  {
   "cell_type": "markdown",
   "id": "3151742b-48ad-4ee3-b7a8-ff00b4c7400a",
   "metadata": {},
   "source": [
    "# 方法重载\n",
    "\n",
    "虽然您可以在派生类中添加新的功能，但有时您可能想要改变已经在父类中定义的方法的行为。这时您可以保持方法名称不变，重载方法的功能即可，如下面实例所示："
   ]
  },
  {
   "cell_type": "code",
   "execution_count": 24,
   "id": "edd6c440-56b9-44b7-8c93-b1274e7109e7",
   "metadata": {},
   "outputs": [
    {
     "name": "stdout",
     "output_type": "stream",
     "text": [
      "Big box area is : 200\n"
     ]
    }
   ],
   "source": [
    "# 定义子类\n",
    "class BigBox < Box\n",
    " \n",
    "   # 改变已有的 getArea 方法\n",
    "   def getArea\n",
    "      @area = @width * @height\n",
    "      puts \"Big box area is : #@area\"\n",
    "   end\n",
    "end\n",
    " \n",
    "# 创建对象\n",
    "box = BigBox.new(10, 20)\n",
    " \n",
    "# 使用重载的方法输出面积\n",
    "box.getArea()\n"
   ]
  },
  {
   "cell_type": "markdown",
   "id": "95e43c6d-323a-42ed-b283-dba84402988e",
   "metadata": {},
   "source": [
    "\n",
    "# 运算符重载\n",
    "我们希望使用 `+` 运算符执行两个 Box 对象的向量加法\n",
    "\n",
    "使用` *` 运算符来把 Box 的 width 和 height 相乘\n",
    "使用一元运算符 `-` 对 Box 的 width 和 height 求反\n",
    "\n",
    "下面是一个带有数学运算符定义的 Box 类版本：\n",
    "\n"
   ]
  },
  {
   "cell_type": "code",
   "execution_count": 25,
   "id": "cc7cf20c-bd33-4ab6-b5c8-28909e070521",
   "metadata": {},
   "outputs": [
    {
     "data": {
      "text/plain": [
       ":*"
      ]
     },
     "execution_count": 25,
     "metadata": {},
     "output_type": "execute_result"
    }
   ],
   "source": [
    "class Box\n",
    "  def initialize(w,h) # 初始化 width 和 height\n",
    "    @width,@height = w, h\n",
    "  end\n",
    " \n",
    "  def +(other)         # 定义 + 来执行向量加法\n",
    "    Box.new(@width + other.width, @height + other.height)\n",
    "  end\n",
    " \n",
    "  def -@               # 定义一元运算符 - 来对 width 和 height 求反\n",
    "    Box.new(-@width, -@height)\n",
    "  end\n",
    " \n",
    "  def *(scalar)        # 执行标量乘法\n",
    "    Box.new(@width*scalar, @height*scalar)\n",
    "  end\n",
    "end"
   ]
  },
  {
   "cell_type": "markdown",
   "id": "1b55abd6-2ce1-4a27-897c-d064a44aa7a1",
   "metadata": {},
   "source": [
    "# 冻结对象\n",
    "有时候，我们想要防止对象被改变。在 Object 中，freeze 方法可实现这点，它能有效地把一个对象变成一个常量。任何对象都可以通过调用 Object.freeze 进行冻结。冻结对象不能被修改，也就是说，您不能改变它的实例变量。\n",
    "\n",
    "您可以使用 Object.frozen? 方法检查一个给定的对象是否已经被冻结。如果对象已被冻结，该方法将返回 true，否则返回一个 false 值。下面的实例解释了这个概念："
   ]
  },
  {
   "cell_type": "code",
   "execution_count": null,
   "id": "972c3d6a-3a5d-4743-a13b-0fc7f723e1c5",
   "metadata": {},
   "outputs": [],
   "source": [
    "# 定义类\n",
    "class Box\n",
    "   # 构造器方法\n",
    "   def initialize(w,h)\n",
    "      @width, @height = w, h\n",
    "   end\n",
    " \n",
    "   # 访问器方法\n",
    "   def getWidth\n",
    "      @width\n",
    "   end\n",
    "   def getHeight\n",
    "      @height\n",
    "   end\n",
    " \n",
    "   # 设置器方法\n",
    "   def setWidth=(value)\n",
    "      @width = value\n",
    "   end\n",
    "   def setHeight=(value)\n",
    "      @height = value\n",
    "   end\n",
    "end\n",
    " \n",
    "# 创建对象\n",
    "box = Box.new(10, 20)\n",
    " \n",
    "# 让我们冻结该对象\n",
    "box.freeze\n",
    "if( box.frozen? )\n",
    "   puts \"Box object is frozen object\"\n",
    "else\n",
    "   puts \"Box object is normal object\"\n",
    "end\n",
    " \n",
    "# 现在尝试使用设置器方法\n",
    "box.setWidth = 30\n",
    "box.setHeight = 50\n",
    " \n",
    "# 使用访问器方法\n",
    "x = box.getWidth()\n",
    "y = box.getHeight()\n",
    " \n",
    "puts \"Width of the box is : #{x}\"\n",
    "puts \"Height of the box is : #{y}\""
   ]
  },
  {
   "cell_type": "markdown",
   "id": "60760f73-4f34-4264-9cc3-3e4d0357b7ef",
   "metadata": {},
   "source": [
    "# 多重继承"
   ]
  },
  {
   "cell_type": "code",
   "execution_count": 11,
   "id": "4056d9d2-8531-4a57-9f9c-b062cbc8a221",
   "metadata": {},
   "outputs": [
    {
     "ename": "NameError",
     "evalue": "uninitialized constant Car",
     "output_type": "error",
     "traceback": [
      "\u001b[31mNameError\u001b[0m: uninitialized constant Car",
      "(irb):6:in `irb_binding'"
     ]
    }
   ],
   "source": [
    "module Flyable\n",
    "  def fly\n",
    "    p \"flying\"\n",
    "  end\n",
    "end\n",
    "\n",
    "class FlyingCar < Car\n",
    "  include Flyable\n",
    "end\n",
    "\n",
    "ecar = FlyingCar.new\n",
    "ecar.fly\n",
    "ecar.move\n"
   ]
  },
  {
   "cell_type": "markdown",
   "id": "d2d49886-9e8d-466c-ae77-018937305a7a",
   "metadata": {},
   "source": [
    "# 多线程"
   ]
  },
  {
   "cell_type": "code",
   "execution_count": 10,
   "id": "37a3a958-b3ec-4dbe-947d-ca7918175f92",
   "metadata": {},
   "outputs": [
    {
     "name": "stdout",
     "output_type": "stream",
     "text": [
      "Started At 2021-08-17 21:08:51 +0800\n",
      "func1 at: 2021-08-17 21:08:51 +0800\n",
      "func2 at: 2021-08-17 21:08:51 +0800\n",
      "func2 at: 2021-08-17 21:08:52 +0800\n",
      "func1 at: 2021-08-17 21:08:53 +0800\n",
      "func2 at: 2021-08-17 21:08:53 +0800\n",
      "func1 at: 2021-08-17 21:08:55 +0800\n"
     ]
    },
    {
     "ename": "Interrupt",
     "evalue": "",
     "output_type": "error",
     "traceback": [
      "\u001b[31mInterrupt\u001b[0m: ",
      "(irb):21:in `join'",
      "(irb):21:in `irb_binding'"
     ]
    }
   ],
   "source": [
    "def func1\n",
    "   i=0\n",
    "   while i<=2\n",
    "      puts \"func1 at: #{Time.now}\"\n",
    "      sleep(2)\n",
    "      i=i+1\n",
    "   end\n",
    "end\n",
    " \n",
    "def func2\n",
    "   j=0\n",
    "   while j<=2\n",
    "      puts \"func2 at: #{Time.now}\"\n",
    "      sleep(1)\n",
    "      j=j+1\n",
    "   end\n",
    "end\n",
    " \n",
    "puts \"Started At #{Time.now}\"\n",
    "t1=Thread.new{func1()}\n",
    "t2=Thread.new{func2()}\n",
    "t1.join\n",
    "t2.join\n",
    "puts \"End at #{Time.now}\""
   ]
  },
  {
   "cell_type": "code",
   "execution_count": 27,
   "id": "8cced814-14eb-49f6-8510-1b3af65f6c4d",
   "metadata": {},
   "outputs": [
    {
     "data": {
      "text/plain": [
       ":start"
      ]
     },
     "execution_count": 27,
     "metadata": {},
     "output_type": "execute_result"
    }
   ],
   "source": []
  },
  {
   "cell_type": "markdown",
   "id": "d97977d7-302f-4613-9733-64d9937ad361",
   "metadata": {},
   "source": [
    "# 块(block）\n",
    "\n",
    "\n",
    "\n",
    "参考：https://medium.com/rubycademy/the-yield-keyword-603a850b8921"
   ]
  },
  {
   "cell_type": "markdown",
   "id": "3b72b98c-7424-4cb1-9e11-5faa76e3c52d",
   "metadata": {},
   "source": [
    "### yield 简单"
   ]
  },
  {
   "cell_type": "code",
   "execution_count": 12,
   "id": "2354cef1-08b8-400e-aafa-a4a3400ce9a5",
   "metadata": {},
   "outputs": [
    {
     "name": "stdout",
     "output_type": "stream",
     "text": [
      "one yield\n"
     ]
    }
   ],
   "source": [
    "def one_yield\n",
    "  yield\n",
    "end\n",
    "\n",
    "one_yield do\n",
    "  puts \"one yield\"\n",
    "end"
   ]
  },
  {
   "cell_type": "markdown",
   "id": "b33c6ef2-ba92-4be1-a8d6-5be8a55d6641",
   "metadata": {},
   "source": [
    "## 多个`yield`"
   ]
  },
  {
   "cell_type": "code",
   "execution_count": 13,
   "id": "5fe6ae36-e117-44d1-bff6-3ee39ab7dc9e",
   "metadata": {},
   "outputs": [
    {
     "name": "stdout",
     "output_type": "stream",
     "text": [
      "multiple yields\n",
      "multiple yields\n"
     ]
    }
   ],
   "source": [
    "\n",
    "def multiple_yields\n",
    "  yield\n",
    "  yield\n",
    "end\n",
    "\n",
    "multiple_yields { puts \"multiple yields\" }"
   ]
  },
  {
   "cell_type": "markdown",
   "id": "d280f2b9-4d87-485e-a827-13cade6d4809",
   "metadata": {},
   "source": [
    "## block_given?"
   ]
  },
  {
   "cell_type": "code",
   "execution_count": 15,
   "id": "e051401d-ebe3-4525-b4be-c23e7cf12825",
   "metadata": {},
   "outputs": [
    {
     "name": "stdout",
     "output_type": "stream",
     "text": [
      "optional block\n",
      "optional block\n"
     ]
    }
   ],
   "source": [
    "\n",
    "def optional_block\n",
    "  yield if block_given?\n",
    "end\n",
    "\n",
    "optional_block # => nil\n",
    "optional_block { puts 'optional block' } # => optional block\n",
    "\n",
    "def yield_without_block\n",
    "  yield\n",
    "end\n",
    "\n",
    "yield_without_block { puts 'optional block' } # => LocalJumpError (no block given (yield))\n"
   ]
  },
  {
   "cell_type": "markdown",
   "id": "d5f0342c-a6b4-4399-a102-25801796b25b",
   "metadata": {},
   "source": [
    "## 带参数的`yield`"
   ]
  },
  {
   "cell_type": "code",
   "execution_count": 16,
   "id": "38ed27a5-8f57-4a34-89fe-268d4721edb5",
   "metadata": {},
   "outputs": [
    {
     "name": "stdout",
     "output_type": "stream",
     "text": [
      "Hello World!\n"
     ]
    }
   ],
   "source": [
    "def yield_with_arguments\n",
    "  hello = 'Hello'\n",
    "  world = 'World!'\n",
    "\n",
    "  yield(hello, world)\n",
    "end\n",
    "\n",
    "yield_with_arguments { |hello, world| puts \"#{hello} #{world}\" } # => Hello World!"
   ]
  },
  {
   "cell_type": "markdown",
   "id": "e831455d-bb24-4601-a897-8c09f7e5e4d6",
   "metadata": {},
   "source": [
    "## 可以返回值的 `yield`"
   ]
  },
  {
   "cell_type": "code",
   "execution_count": 26,
   "id": "80feeae7-69ba-427b-962a-48d311beb2d7",
   "metadata": {},
   "outputs": [
    {
     "name": "stdout",
     "output_type": "stream",
     "text": [
      "Hello World!\n"
     ]
    }
   ],
   "source": [
    "def yield_with_return_value\n",
    "  hello_world = yield\n",
    "\n",
    "  puts hello_world\n",
    "end\n",
    "\n",
    "yield_with_return_value { \"Hello World!\" } # => Hello World!"
   ]
  },
  {
   "cell_type": "markdown",
   "id": "5d77b744-c654-4b75-943f-a46c14395405",
   "metadata": {},
   "source": [
    "# Proc，lambda"
   ]
  },
  {
   "cell_type": "markdown",
   "id": "6ffad88e-28fa-44d0-8994-2d904e514db7",
   "metadata": {},
   "source": [
    "### lambda"
   ]
  },
  {
   "cell_type": "code",
   "execution_count": null,
   "id": "88467dd6-f4d2-4379-abe4-76331bff135d",
   "metadata": {},
   "outputs": [],
   "source": [
    "say_something = -> { puts \"This is a lambda\" }\n",
    "say_something.call"
   ]
  },
  {
   "cell_type": "code",
   "execution_count": 17,
   "id": "6023607a-f9a9-493d-9200-c3179c97880f",
   "metadata": {},
   "outputs": [
    {
     "name": "stdout",
     "output_type": "stream",
     "text": [
      "Lambda called\n",
      "Lambda called\n",
      "Lambda called\n",
      "Lambda called\n"
     ]
    }
   ],
   "source": [
    "# lambda 花式调用\n",
    "my_lambda = -> { puts \"Lambda called\" }\n",
    "\n",
    "my_lambda.call\n",
    "my_lambda.()\n",
    "my_lambda[]\n",
    "my_lambda.==="
   ]
  },
  {
   "cell_type": "code",
   "execution_count": 24,
   "id": "59da0b70-ba56-407f-aab9-6fb4585d6f73",
   "metadata": {},
   "outputs": [
    {
     "name": "stdout",
     "output_type": "stream",
     "text": [
      "1\n",
      "nil\n"
     ]
    }
   ],
   "source": [
    "def call_proc(my_proc)\n",
    "  count = 500\n",
    "\n",
    "  my_proc.call\n",
    "end\n",
    "\n",
    "count   = 1\n",
    "\n",
    "my_proc = Proc.new { puts count }\n",
    "\n",
    "p call_proc(my_proc) # What does this print?"
   ]
  },
  {
   "cell_type": "markdown",
   "id": "834d7fe4-abd8-456a-b688-e8aba1f94f5d",
   "metadata": {},
   "source": [
    "## 带参数的lambda"
   ]
  },
  {
   "cell_type": "code",
   "execution_count": 25,
   "id": "49b38ff1-4390-42ee-8faf-7c0520e7624a",
   "metadata": {},
   "outputs": [
    {
     "data": {
      "text/plain": [
       "20"
      ]
     },
     "execution_count": 25,
     "metadata": {},
     "output_type": "execute_result"
    }
   ],
   "source": [
    "times_two = ->(x) { x * 2 }\n",
    "times_two.call(10)\n",
    "# 20"
   ]
  },
  {
   "cell_type": "markdown",
   "id": "52a4b593-f6fd-4cf7-a438-4ebbd47386d3",
   "metadata": {},
   "source": [
    "# Lambda vs Proc 比较\n",
    "\n",
    "> There is no dedicated Lambda class. A lambda is just a special Proc object. If you take a look at the instance methods from Proc, you will notice there is a lambda? method.\n",
    "\n",
    "Here is a summary of how procs and lambdas are different:\n",
    "\n",
    "* Lambdas are defined with -> {} and procs with Proc.new {}.\n",
    "* Procs return from the current method, while lambdas return from the lambda itself.\n",
    "* Procs don’t care about **the correct number of arguments**, while lambdas will raise an exception."
   ]
  },
  {
   "cell_type": "code",
   "execution_count": 28,
   "id": "b5e521e6-baab-4946-9637-1dc9da28f316",
   "metadata": {},
   "outputs": [
    {
     "ename": "ArgumentError",
     "evalue": "wrong number of arguments (given 1, expected 2)",
     "output_type": "error",
     "traceback": [
      "\u001b[31mArgumentError\u001b[0m: wrong number of arguments (given 1, expected 2)",
      "(irb):in `block in irb_binding'",
      "(irb):1:in `irb_binding'"
     ]
    }
   ],
   "source": [
    "t = ->(x,y) { puts \"I don't care about arguments!\" }\n",
    "t.call(1)\n",
    "# \"I don't care about arguments!\""
   ]
  },
  {
   "cell_type": "code",
   "execution_count": null,
   "id": "e07f5d07-08c7-41f3-a3d8-6fb9df872f3f",
   "metadata": {},
   "outputs": [],
   "source": []
  },
  {
   "cell_type": "code",
   "execution_count": null,
   "id": "5055e189-adf7-488d-83a9-26f3c86153b4",
   "metadata": {},
   "outputs": [],
   "source": [
    "my_proc = Proc.new { |x| puts x }"
   ]
  },
  {
   "cell_type": "markdown",
   "id": "ada48eda-1b33-4154-a362-e125d378a708",
   "metadata": {},
   "source": [
    "Another difference between procs & lambdas is how they react to a **return statement**.\n",
    "\n",
    "A **lambda** will return normally, like a **regular method**.\n",
    "\n",
    "But a **proc** will try to return from **the current context**.\n",
    "    \n",
    "If you run the following code, you will notice how the proc raises a LocalJumpError exception.\n",
    "\n",
    "The reason is that you can’t return from the top-level context."
   ]
  },
  {
   "cell_type": "code",
   "execution_count": null,
   "id": "cfbb1ca3-5347-4b90-b187-03b5319f6892",
   "metadata": {},
   "outputs": [],
   "source": [
    "# Should work\n",
    "my_lambda = -> { return 1 }\n",
    "puts \"Lambda result: #{my_lambda.call}\"\n",
    "\n",
    "# Should raise exception\n",
    "my_proc = Proc.new { return 1 }\n",
    "puts \"Proc result: #{my_proc.call}\""
   ]
  },
  {
   "cell_type": "code",
   "execution_count": null,
   "id": "067602d1-2ed3-46f0-a7dd-0eed30dad4f1",
   "metadata": {},
   "outputs": [],
   "source": [
    "def call_proc\n",
    "  puts \"Before proc\"\n",
    "  my_proc = Proc.new { return 2 }\n",
    "  my_proc.call\n",
    "  puts \"After proc\"\n",
    "end\n",
    "\n",
    "p call_proc\n",
    "# Prints \"Before proc\" but not \"After proc\""
   ]
  },
  {
   "cell_type": "markdown",
   "id": "6e5c339c-9571-487e-b9c4-a0d6ed358eb8",
   "metadata": {},
   "source": [
    "# Closure\n",
    "\n",
    "Ruby procs & lambdas also have another special attribute. When you create a Ruby proc, it captures the current execution scope with it."
   ]
  },
  {
   "cell_type": "code",
   "execution_count": 29,
   "id": "eedacb9e-3914-4cc0-b135-ba792eab08e6",
   "metadata": {},
   "outputs": [
    {
     "name": "stdout",
     "output_type": "stream",
     "text": [
      "1\n",
      "nil\n"
     ]
    }
   ],
   "source": [
    "def call_proc(my_proc)\n",
    "  count = 500\n",
    "  my_proc.call\n",
    "end\n",
    "\n",
    "count   = 1\n",
    "my_proc = Proc.new { puts count }\n",
    "\n",
    "p call_proc(my_proc) # What does this print?"
   ]
  },
  {
   "cell_type": "markdown",
   "id": "6963062b-539b-47f0-bd5e-9d1b1e0e68c0",
   "metadata": {},
   "source": [
    "# Module\n",
    "\n",
    "* 命名空间\n",
    "* Mixin"
   ]
  },
  {
   "cell_type": "code",
   "execution_count": null,
   "id": "7e2bbcc2-efac-4b41-9516-61aa3022ad06",
   "metadata": {},
   "outputs": [],
   "source": []
  },
  {
   "cell_type": "markdown",
   "id": "0f98bf40-7a06-42b3-8ff8-f02687eda97d",
   "metadata": {},
   "source": [
    "# 正则表达式\n",
    "\n",
    "[abc]\tA single character of: a, b, or c\n",
    "\n",
    "[^abc]\tAny single character except: a, b, or c\n",
    "\n",
    "[a-z]\tAny single character in the range a-z\n",
    "\n",
    "[a-zA-Z]\tAny single character in the range a-z or A-Z\n",
    "\n",
    "^\tStart of line\n",
    "\n",
    "$\tEnd of line\n",
    "\n",
    "\\A\tStart of string\n",
    "\n",
    "\\z\tEnd of string\n",
    "\n",
    ".\tAny single character\n",
    "\n",
    "\\s\tAny whitespace character\n",
    "\n",
    "\\S\tAny non-whitespace character\n",
    "\n",
    "\\d\tAny digit\n",
    "\n",
    "\\D\tAny non-digit\n",
    "\n",
    "\\w\tAny word character (letter, number, underscore)\n",
    "\n",
    "\\W\tAny non-word character\n",
    "\n",
    "\\b\tAny word boundary\n",
    "\n",
    "(...)\tCapture everything enclosed\n",
    "\n",
    "(a|b)\ta or b\n",
    "\n",
    "a?\tZero or one of a\n",
    "\n",
    "a*\tZero or more of a\n",
    "\n",
    "a+\tOne or more of a\n",
    "\n",
    "a{3}\tExactly 3 of a\n",
    "\n",
    "a{3,}\t3 or more of a\n",
    "\n",
    "a{3,6}\tBetween 3 and 6 of a\n",
    "\n",
    "\n",
    "参考网站：https://rubular.com/\n"
   ]
  },
  {
   "cell_type": "code",
   "execution_count": 42,
   "id": "02dfb642-9b72-4e4c-8773-15a1e1fe81bf",
   "metadata": {},
   "outputs": [
    {
     "data": {
      "text/plain": [
       "#<MatchData \"roC123@g.cn\">"
      ]
     },
     "execution_count": 42,
     "metadata": {},
     "output_type": "execute_result"
    }
   ],
   "source": [
    "\"roC123@g.cn\".match(/[a-z\\d]+@[a-zA-Z\\d\\.]+/i)"
   ]
  },
  {
   "cell_type": "markdown",
   "id": "654a4f90-bc3e-42eb-b137-cda7cf452ed9",
   "metadata": {},
   "source": [
    "# 回顾所学"
   ]
  },
  {
   "cell_type": "markdown",
   "id": "8259f522-d880-4f2d-9fd3-1ee51927b3d2",
   "metadata": {},
   "source": [
    "## 预备知识 1"
   ]
  },
  {
   "cell_type": "code",
   "execution_count": 30,
   "id": "4ab86618-c325-4589-9835-46ec0d864376",
   "metadata": {},
   "outputs": [
    {
     "data": {
      "text/plain": [
       "#<Thread:0x00007ff5fd237bc0 (irb):8 run>"
      ]
     },
     "execution_count": 30,
     "metadata": {},
     "output_type": "execute_result"
    }
   ],
   "source": [
    "semaphore = Mutex.new\n",
    "\n",
    "a = Thread.new {\n",
    "  semaphore.synchronize {\n",
    "    # access shared resource\n",
    "  }\n",
    "}\n",
    "\n",
    "b = Thread.new {\n",
    "  semaphore.synchronize {\n",
    "    # access shared resource\n",
    "  }\n",
    "}"
   ]
  },
  {
   "cell_type": "markdown",
   "id": "ebc4bd18-3f44-4a9e-b6b3-ea45458073be",
   "metadata": {},
   "source": [
    "## 预备知识 2"
   ]
  },
  {
   "cell_type": "markdown",
   "id": "b37390b9-42f5-4c82-be79-0938f022de08",
   "metadata": {},
   "source": [
    "### ConditionVariable\n",
    "ConditionVariable objects augment class Mutex. Using condition variables, it is possible to **suspend** while in the middle of a critical section until a resource becomes available.\n",
    "\n",
    "> #broadcast()\n",
    "  Wakes up all threads waiting for this lock.\n",
    "  \n",
    ">  #signal()\n",
    "  Wakes up the first thread in line waiting for this lock.\n",
    "  \n",
    ">  #wait(mutex, timeout=nil)click to toggle source\n",
    "   Releases the lock held in mutex and waits; reacquires the lock on wakeup.\n",
    "   \n",
    "   If timeout is given, this method returns after timeout seconds passed, even if no other thread doesn't signal."
   ]
  },
  {
   "cell_type": "code",
   "execution_count": 32,
   "id": "4d6c4efe-3b01-44c1-ac44-c7d44120356f",
   "metadata": {},
   "outputs": [
    {
     "data": {
      "text/plain": [
       "#<Thread:0x00007ff5fbb7d308 (irb):11 run>"
      ]
     },
     "execution_count": 32,
     "metadata": {},
     "output_type": "execute_result"
    }
   ],
   "source": [
    "mutex = Mutex.new\n",
    "resource = ConditionVariable.new\n",
    "\n",
    "a = Thread.new {\n",
    "   mutex.synchronize {\n",
    "     # Thread 'a' now needs the resource\n",
    "     resource.wait(mutex)\n",
    "     # 'a' can now have the resource\n",
    "   }\n",
    "}\n",
    "\n",
    "b = Thread.new {\n",
    "   mutex.synchronize {\n",
    "     # Thread 'b' has finished using the resource\n",
    "     resource.signal\n",
    "   }\n",
    "}"
   ]
  },
  {
   "cell_type": "code",
   "execution_count": 33,
   "id": "c39ccd5b-0e5d-4558-af56-e5ab7ca9ffc0",
   "metadata": {},
   "outputs": [
    {
     "name": "stderr",
     "output_type": "stream",
     "text": [
      "(irb):2: warning: already initialized constant #<Class:0x00007ff5f8ba1bc0>::GServer::DEFAULT_HOST\n",
      "(irb):2: warning: previous definition of DEFAULT_HOST was here\n"
     ]
    },
    {
     "data": {
      "text/plain": [
       ":start"
      ]
     },
     "execution_count": 33,
     "metadata": {},
     "output_type": "execute_result"
    }
   ],
   "source": [
    "class GServer\n",
    "\n",
    "  DEFAULT_HOST = \"127.0.0.1\"\n",
    "\n",
    "  def serve(io)\n",
    "  end\n",
    "\n",
    "  @@services = {}   # Hash of opened ports, i.e. services\n",
    "  @@servicesMutex = Mutex.new\n",
    "\n",
    "  # Stop the server running on the given port, bound to the given host\n",
    "  #\n",
    "  # +port+:: port, as a Fixnum, of the server to stop\n",
    "  # +host+:: host on which to find the server to stop\n",
    "  def GServer.stop(port, host = DEFAULT_HOST)\n",
    "    @@servicesMutex.synchronize {\n",
    "      @@services[host][port].stop\n",
    "    }\n",
    "  end\n",
    "\n",
    "  # Check if a server is running on the given port and host\n",
    "  #\n",
    "  # +port+:: port, as a Fixnum, of the server to check\n",
    "  # +host+:: host on which to find the server to check\n",
    "  #\n",
    "  # Returns true if a server is running on that port and host.\n",
    "  def GServer.in_service?(port, host = DEFAULT_HOST)\n",
    "    @@services.has_key?(host) and\n",
    "      @@services[host].has_key?(port)\n",
    "  end\n",
    "\n",
    "  # Stop the server\n",
    "  def stop\n",
    "    @connectionsMutex.synchronize  {\n",
    "      if @tcpServerThread\n",
    "        @tcpServerThread.raise \"stop\"\n",
    "      end\n",
    "    }\n",
    "  end\n",
    "\n",
    "  # Returns true if the server has stopped.\n",
    "  def stopped?\n",
    "    @tcpServerThread == nil\n",
    "  end\n",
    "\n",
    "  # Schedule a shutdown for the server\n",
    "  def shutdown\n",
    "    @shutdown = true\n",
    "  end\n",
    "\n",
    "  # Return the current number of connected clients\n",
    "  def connections\n",
    "    @connections.size\n",
    "  end\n",
    "\n",
    "  # Join with the server thread\n",
    "  def join\n",
    "    @tcpServerThread.join if @tcpServerThread\n",
    "  end\n",
    "\n",
    "  # Port on which to listen, as a Fixnum\n",
    "  attr_reader :port\n",
    "  # Host on which to bind, as a String\n",
    "  attr_reader :host\n",
    "  # Maximum number of connections to accept at a time, as a Fixnum\n",
    "  attr_reader :maxConnections\n",
    "  # IO Device on which log messages should be written\n",
    "  attr_accessor :stdlog\n",
    "  # Set to true to cause the callbacks #connecting, #disconnecting, #starting,\n",
    "  # and #stopping to be called during the server's lifecycle\n",
    "  attr_accessor :audit\n",
    "  # Set to true to show more detailed logging\n",
    "  attr_accessor :debug\n",
    "\n",
    "  # Called when a client connects, if auditing is enabled.\n",
    "  #\n",
    "  # +client+:: a TCPSocket instance representing the client that connected\n",
    "  #\n",
    "  # Return true to allow this client to connect, false to prevent it.\n",
    "  def connecting(client)\n",
    "    addr = client.peeraddr\n",
    "    log(\"#{self.class} #{@host}:#{@port} client:#{addr[1]} \" +\n",
    "        \"#{addr[2]}<#{addr[3]}> connect\")\n",
    "    true\n",
    "  end\n",
    "\n",
    "\n",
    "  # Called when a client disconnects, if audition is enabled.\n",
    "  #\n",
    "  # +clientPort+:: the port of the client that is connecting\n",
    "  def disconnecting(clientPort)\n",
    "    log(\"#{self.class} #{@host}:#{@port} \" +\n",
    "      \"client:#{clientPort} disconnect\")\n",
    "  end\n",
    "\n",
    "  protected :connecting, :disconnecting\n",
    "\n",
    "  # Called when the server is starting up, if auditing is enabled.\n",
    "  def starting()\n",
    "    log(\"#{self.class} #{@host}:#{@port} start\")\n",
    "  end\n",
    "\n",
    "  # Called when the server is shutting down, if auditing is enabled.\n",
    "  def stopping()\n",
    "    log(\"#{self.class} #{@host}:#{@port} stop\")\n",
    "  end\n",
    "\n",
    "  protected :starting, :stopping\n",
    "\n",
    "  # Called if #debug is true whenever an unhandled exception is raised.\n",
    "  # This implementation simply logs the backtrace.\n",
    "  #\n",
    "  # +detail+:: the Exception that was caught\n",
    "  def error(detail)\n",
    "    log(detail.backtrace.join(\"\\n\"))\n",
    "  end\n",
    "\n",
    "  # Log a message to #stdlog, if it's defined.  This implementation\n",
    "  # outputs the timestamp and message to the log.\n",
    "  #\n",
    "  # +msg+:: the message to log\n",
    "  def log(msg)\n",
    "    if @stdlog\n",
    "      @stdlog.puts(\"[#{Time.new.ctime}] %s\" % msg)\n",
    "      @stdlog.flush\n",
    "    end\n",
    "  end\n",
    "\n",
    "  protected :error, :log\n",
    "\n",
    "  # Create a new server\n",
    "  #\n",
    "  # +port+:: the port, as a Fixnum, on which to listen\n",
    "  # +host+:: the host to bind to\n",
    "  # +maxConnections+:: the maximum number of simultaneous connections to\n",
    "  #                    accept\n",
    "  # +stdlog+:: IO device on which to log messages\n",
    "  # +audit+:: if true, lifecycle callbacks will be called.  See #audit\n",
    "  # +debug+:: if true, error messages are logged.  See #debug\n",
    "  def initialize(port, host = DEFAULT_HOST, maxConnections = 4,\n",
    "    stdlog = $stderr, audit = false, debug = false)\n",
    "    @tcpServerThread = nil\n",
    "    @port = port\n",
    "    @host = host\n",
    "    @maxConnections = maxConnections\n",
    "    @connections = []\n",
    "    @connectionsMutex = Mutex.new\n",
    "    @connectionsCV = ConditionVariable.new\n",
    "    @stdlog = stdlog\n",
    "    @audit = audit\n",
    "    @debug = debug\n",
    "  end\n",
    "\n",
    "  # Start the server if it isn't already running\n",
    "  #\n",
    "  # +maxConnections+::\n",
    "  #   override +maxConnections+ given to the constructor.  A negative\n",
    "  #   value indicates that the value from the constructor should be used.\n",
    "  def start(maxConnections = -1)\n",
    "    raise \"server is already running\" unless stopped?\n",
    "    @shutdown = false\n",
    "    @maxConnections = maxConnections if maxConnections > 0\n",
    "    @@servicesMutex.synchronize  {\n",
    "      if GServer.in_service?(@port,@host)\n",
    "        raise \"Port already in use: #{host}:#{@port}!\"\n",
    "      end\n",
    "      @tcpServer = TCPServer.new(@host,@port)\n",
    "      @port = @tcpServer.addr[1]\n",
    "      @@services[@host] = {} unless @@services.has_key?(@host)\n",
    "      @@services[@host][@port] = self;\n",
    "    }\n",
    "    @tcpServerThread = Thread.new {\n",
    "      begin\n",
    "        starting if @audit\n",
    "        while !@shutdown\n",
    "          @connectionsMutex.synchronize  {\n",
    "             while @connections.size >= @maxConnections\n",
    "               @connectionsCV.wait(@connectionsMutex)\n",
    "             end\n",
    "          }\n",
    "          client = @tcpServer.accept\n",
    "          Thread.new(client)  { |myClient|\n",
    "            @connections << Thread.current\n",
    "            begin\n",
    "              myPort = myClient.peeraddr[1]\n",
    "              serve(myClient) if !@audit or connecting(myClient)\n",
    "            rescue => detail\n",
    "              error(detail) if @debug\n",
    "            ensure\n",
    "              begin\n",
    "                myClient.close\n",
    "              rescue\n",
    "              end\n",
    "              @connectionsMutex.synchronize {\n",
    "                @connections.delete(Thread.current)\n",
    "                @connectionsCV.signal\n",
    "              }\n",
    "              disconnecting(myPort) if @audit\n",
    "            end\n",
    "          }\n",
    "        end\n",
    "      rescue => detail\n",
    "        error(detail) if @debug\n",
    "      ensure\n",
    "        begin\n",
    "          @tcpServer.close\n",
    "        rescue\n",
    "        end\n",
    "        if @shutdown\n",
    "          @connectionsMutex.synchronize  {\n",
    "             while @connections.size > 0\n",
    "               @connectionsCV.wait(@connectionsMutex)\n",
    "             end\n",
    "          }\n",
    "        else\n",
    "          @connections.each { |c| c.raise \"stop\" }\n",
    "        end\n",
    "        @tcpServerThread = nil\n",
    "        @@servicesMutex.synchronize  {\n",
    "          @@services[@host].delete(@port)\n",
    "        }\n",
    "        stopping if @audit\n",
    "      end\n",
    "    }\n",
    "    self\n",
    "  end\n",
    "\n",
    "end"
   ]
  },
  {
   "cell_type": "markdown",
   "id": "30e1ccc8-ecb2-46e1-bb87-03905a2541b9",
   "metadata": {},
   "source": [
    "# mini http server"
   ]
  },
  {
   "cell_type": "markdown",
   "id": "6e914b19-1d54-4d8e-9ca6-3e4873950a44",
   "metadata": {},
   "source": [
    "```ruby\n",
    "# 不要在这里运行\n",
    "# tcp_server.rb\n",
    "require 'socket'\n",
    "server = TCPServer.new 5678\n",
    "\n",
    "while session = server.accept\n",
    "  session.puts \"Hello world! The time is #{Time.now}\"\n",
    "  session.close\n",
    "end\n",
    "```"
   ]
  },
  {
   "cell_type": "markdown",
   "id": "5fcb191a-ee15-4558-b05a-327da2ebc859",
   "metadata": {},
   "source": [
    "```ruby\n",
    "# tcp_client.rb\n",
    "require 'socket'\n",
    "server = TCPSocket.new 'localhost', 5678\n",
    "\n",
    "while line = server.gets\n",
    "  puts line\n",
    "end\n",
    "\n",
    "server.close\n",
    "```"
   ]
  },
  {
   "cell_type": "markdown",
   "id": "b5928452-17d5-465b-8759-4dff3b426d75",
   "metadata": {},
   "source": [
    "# 最基础的 HTTP GET request\n",
    "\n",
    "没有header，也没有body\n",
    "\n",
    "\n",
    "> GET / HTTP/1.1\\r\\n\n",
    "\n",
    "\n",
    "包含以下内容：\n",
    "\n",
    "* method token (GET)\n",
    "* Request-URI (/)\n",
    "* 协议版本 (HTTP/1.1)\n",
    "* CRLF (a carriage return: \\r, followed by line feed: \\n) to indicate the end of the line\n"
   ]
  },
  {
   "cell_type": "markdown",
   "id": "c8972f83-9b08-41e1-a613-8f54b5c12b83",
   "metadata": {},
   "source": [
    "# 最基础的HTTP RESPONSE\n",
    "\n",
    "> HTTP/1.1 200\\r\\nContent-Type: text/html\\r\\n\\r\\n\\Hello world!\n",
    "\n",
    "包含以下内容：\n",
    "\n",
    "* 协议版本 (HTTP/1.1) \n",
    "* 空格\n",
    "* 状态码 (“200”)\n",
    "* 分割符 CRLF (\\r\\n)\n",
    "* 可选的 `header` , 比如(“Content-Type: text/html”)，也可以有很多个，中间用 CRLF: \\r\\n分开\n",
    "* (\\r\\n\\r\\n)\n",
    "* Body: “Hello world!”"
   ]
  },
  {
   "cell_type": "code",
   "execution_count": null,
   "id": "69074266-7073-4dcb-9145-ca5cb85b6b0f",
   "metadata": {},
   "outputs": [],
   "source": [
    "# http_server.rb\n",
    "require 'socket'\n",
    "server = TCPServer.new 5678\n",
    "\n",
    "while session = server.accept\n",
    "  request = session.gets\n",
    "  puts request\n",
    "\n",
    "  session.print \"HTTP/1.1 200\\r\\n\" # 1\n",
    "  session.print \"Content-Type: text/html\\r\\n\" # 2\n",
    "  session.print \"\\r\\n\" # 3\n",
    "  session.print \"Hello world! The time is #{Time.now}\" #4\n",
    "\n",
    "  session.close\n",
    "end"
   ]
  },
  {
   "cell_type": "markdown",
   "id": "73837f1c-09a1-4fdf-ac70-91ca1b37d669",
   "metadata": {},
   "source": [
    "# Rack App Server"
   ]
  },
  {
   "cell_type": "code",
   "execution_count": null,
   "id": "fa1446eb-99d8-44de-8451-d3975d896876",
   "metadata": {},
   "outputs": [],
   "source": [
    "app = Proc.new do |env|\n",
    "  ['200', {'Content-Type' => 'text/html'}, \"Hello w[orld! The time is #{Time.now}\"]]\n",
    "end"
   ]
  },
  {
   "cell_type": "code",
   "execution_count": null,
   "id": "0eef906c-507d-478f-b2d3-c6cda28e0db6",
   "metadata": {},
   "outputs": [],
   "source": [
    "# http_server.rb\n",
    "require 'socket'\n",
    "require 'rack'\n",
    "require 'rack/lobster'\n",
    "\n",
    "app = Proc.new do\n",
    "  ['200', {'Content-Type' => 'text/html'}, [\"Hello world! The time is #{Time.now}\"]]\n",
    "end\n",
    "\n",
    "server = TCPServer.new 5678\n",
    "\n",
    "while session = server.accept\n",
    "  request = session.gets\n",
    "  puts request\n",
    "\n",
    "  # 1\n",
    "  status, headers, body = app.call({})\n",
    "\n",
    "  # 2\n",
    "  session.print \"HTTP/1.1 #{status}\\r\\n\"\n",
    "\n",
    "  # 3\n",
    "  headers.each do |key, value|\n",
    "    session.print \"#{key}: #{value}\\r\\n\"\n",
    "  end\n",
    "\n",
    "  # 4\n",
    "  session.print \"\\r\\n\"\n",
    "\n",
    "  # 5\n",
    "  body.each do |part|\n",
    "    session.print part\n",
    "  end\n",
    "  session.close\n",
    "end\n"
   ]
  },
  {
   "cell_type": "code",
   "execution_count": null,
   "id": "4c6a5932-cc27-454c-9e57-d184ebb9559e",
   "metadata": {},
   "outputs": [],
   "source": [
    "require \"simp/version\"\n",
    "require \"erubi\"\n",
    "\n",
    "module Simp\n",
    "  class Application\n",
    "    def call(env)\n",
    "      [200, {\"Content-Type\" => \"html\"},\n",
    "       [html(env[\"REQUEST_PATH\"][1..-1])]\n",
    "      ]\n",
    "    end\n",
    "\n",
    "    def render(file_name)\n",
    "      eval Erubi::Engine.new(File.read(\"#{file_name}.html.erb\")).src\n",
    "    end\n",
    "\n",
    "    def render_400\n",
    "      \"Oops, the page you visited is not exist.\"\n",
    "    end\n",
    "\n",
    "    def html(file_name)\n",
    "      puts file_name\n",
    "      if File.exist?(\"#{file_name}.html.erb\")\n",
    "        render file_name\n",
    "      else\n",
    "        render_400\n",
    "      end\n",
    "    end\n",
    "  end\n",
    "end"
   ]
  }
 ],
 "metadata": {
  "kernelspec": {
   "display_name": "Ruby 2.7.4",
   "language": "ruby",
   "name": "ruby"
  },
  "language_info": {
   "file_extension": ".rb",
   "mimetype": "application/x-ruby",
   "name": "ruby",
   "version": "2.7.4"
  }
 },
 "nbformat": 4,
 "nbformat_minor": 5
}
